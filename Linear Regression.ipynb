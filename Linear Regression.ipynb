{
 "cells": [
  {
   "cell_type": "code",
   "execution_count": 1,
   "metadata": {},
   "outputs": [],
   "source": [
    "import matplotlib.pyplot as plt\n",
    "import pandas as pd\n",
    "import pylab as pl\n",
    "import numpy as np\n",
    "%matplotlib inline"
   ]
  },
  {
   "cell_type": "code",
   "execution_count": 2,
   "metadata": {},
   "outputs": [],
   "source": [
    "dataset=pd.read_csv('FuelConsumption.csv')"
   ]
  },
  {
   "cell_type": "code",
   "execution_count": 3,
   "metadata": {},
   "outputs": [
    {
     "data": {
      "text/html": [
       "<div>\n",
       "<style scoped>\n",
       "    .dataframe tbody tr th:only-of-type {\n",
       "        vertical-align: middle;\n",
       "    }\n",
       "\n",
       "    .dataframe tbody tr th {\n",
       "        vertical-align: top;\n",
       "    }\n",
       "\n",
       "    .dataframe thead th {\n",
       "        text-align: right;\n",
       "    }\n",
       "</style>\n",
       "<table border=\"1\" class=\"dataframe\">\n",
       "  <thead>\n",
       "    <tr style=\"text-align: right;\">\n",
       "      <th></th>\n",
       "      <th>MODELYEAR</th>\n",
       "      <th>MAKE</th>\n",
       "      <th>MODEL</th>\n",
       "      <th>VEHICLECLASS</th>\n",
       "      <th>ENGINESIZE</th>\n",
       "      <th>CYLINDERS</th>\n",
       "      <th>TRANSMISSION</th>\n",
       "      <th>FUELTYPE</th>\n",
       "      <th>FUELCONSUMPTION_CITY</th>\n",
       "      <th>FUELCONSUMPTION_HWY</th>\n",
       "      <th>FUELCONSUMPTION_COMB</th>\n",
       "      <th>FUELCONSUMPTION_COMB_MPG</th>\n",
       "      <th>CO2EMISSIONS</th>\n",
       "    </tr>\n",
       "  </thead>\n",
       "  <tbody>\n",
       "    <tr>\n",
       "      <th>0</th>\n",
       "      <td>2014</td>\n",
       "      <td>ACURA</td>\n",
       "      <td>ILX</td>\n",
       "      <td>COMPACT</td>\n",
       "      <td>2.0</td>\n",
       "      <td>4</td>\n",
       "      <td>AS5</td>\n",
       "      <td>Z</td>\n",
       "      <td>9.9</td>\n",
       "      <td>6.7</td>\n",
       "      <td>8.5</td>\n",
       "      <td>33</td>\n",
       "      <td>196</td>\n",
       "    </tr>\n",
       "    <tr>\n",
       "      <th>1</th>\n",
       "      <td>2014</td>\n",
       "      <td>ACURA</td>\n",
       "      <td>ILX</td>\n",
       "      <td>COMPACT</td>\n",
       "      <td>2.4</td>\n",
       "      <td>4</td>\n",
       "      <td>M6</td>\n",
       "      <td>Z</td>\n",
       "      <td>11.2</td>\n",
       "      <td>7.7</td>\n",
       "      <td>9.6</td>\n",
       "      <td>29</td>\n",
       "      <td>221</td>\n",
       "    </tr>\n",
       "    <tr>\n",
       "      <th>2</th>\n",
       "      <td>2014</td>\n",
       "      <td>ACURA</td>\n",
       "      <td>ILX HYBRID</td>\n",
       "      <td>COMPACT</td>\n",
       "      <td>1.5</td>\n",
       "      <td>4</td>\n",
       "      <td>AV7</td>\n",
       "      <td>Z</td>\n",
       "      <td>6.0</td>\n",
       "      <td>5.8</td>\n",
       "      <td>5.9</td>\n",
       "      <td>48</td>\n",
       "      <td>136</td>\n",
       "    </tr>\n",
       "    <tr>\n",
       "      <th>3</th>\n",
       "      <td>2014</td>\n",
       "      <td>ACURA</td>\n",
       "      <td>MDX 4WD</td>\n",
       "      <td>SUV - SMALL</td>\n",
       "      <td>3.5</td>\n",
       "      <td>6</td>\n",
       "      <td>AS6</td>\n",
       "      <td>Z</td>\n",
       "      <td>12.7</td>\n",
       "      <td>9.1</td>\n",
       "      <td>11.1</td>\n",
       "      <td>25</td>\n",
       "      <td>255</td>\n",
       "    </tr>\n",
       "    <tr>\n",
       "      <th>4</th>\n",
       "      <td>2014</td>\n",
       "      <td>ACURA</td>\n",
       "      <td>RDX AWD</td>\n",
       "      <td>SUV - SMALL</td>\n",
       "      <td>3.5</td>\n",
       "      <td>6</td>\n",
       "      <td>AS6</td>\n",
       "      <td>Z</td>\n",
       "      <td>12.1</td>\n",
       "      <td>8.7</td>\n",
       "      <td>10.6</td>\n",
       "      <td>27</td>\n",
       "      <td>244</td>\n",
       "    </tr>\n",
       "  </tbody>\n",
       "</table>\n",
       "</div>"
      ],
      "text/plain": [
       "   MODELYEAR   MAKE       MODEL VEHICLECLASS  ENGINESIZE  CYLINDERS  \\\n",
       "0       2014  ACURA         ILX      COMPACT         2.0          4   \n",
       "1       2014  ACURA         ILX      COMPACT         2.4          4   \n",
       "2       2014  ACURA  ILX HYBRID      COMPACT         1.5          4   \n",
       "3       2014  ACURA     MDX 4WD  SUV - SMALL         3.5          6   \n",
       "4       2014  ACURA     RDX AWD  SUV - SMALL         3.5          6   \n",
       "\n",
       "  TRANSMISSION FUELTYPE  FUELCONSUMPTION_CITY  FUELCONSUMPTION_HWY  \\\n",
       "0          AS5        Z                   9.9                  6.7   \n",
       "1           M6        Z                  11.2                  7.7   \n",
       "2          AV7        Z                   6.0                  5.8   \n",
       "3          AS6        Z                  12.7                  9.1   \n",
       "4          AS6        Z                  12.1                  8.7   \n",
       "\n",
       "   FUELCONSUMPTION_COMB  FUELCONSUMPTION_COMB_MPG  CO2EMISSIONS  \n",
       "0                   8.5                        33           196  \n",
       "1                   9.6                        29           221  \n",
       "2                   5.9                        48           136  \n",
       "3                  11.1                        25           255  \n",
       "4                  10.6                        27           244  "
      ]
     },
     "execution_count": 3,
     "metadata": {},
     "output_type": "execute_result"
    }
   ],
   "source": [
    "dataset.head()"
   ]
  },
  {
   "cell_type": "code",
   "execution_count": 4,
   "metadata": {},
   "outputs": [
    {
     "name": "stdout",
     "output_type": "stream",
     "text": [
      "<class 'pandas.core.frame.DataFrame'>\n",
      "RangeIndex: 1067 entries, 0 to 1066\n",
      "Data columns (total 13 columns):\n",
      " #   Column                    Non-Null Count  Dtype  \n",
      "---  ------                    --------------  -----  \n",
      " 0   MODELYEAR                 1067 non-null   int64  \n",
      " 1   MAKE                      1067 non-null   object \n",
      " 2   MODEL                     1067 non-null   object \n",
      " 3   VEHICLECLASS              1067 non-null   object \n",
      " 4   ENGINESIZE                1067 non-null   float64\n",
      " 5   CYLINDERS                 1067 non-null   int64  \n",
      " 6   TRANSMISSION              1067 non-null   object \n",
      " 7   FUELTYPE                  1067 non-null   object \n",
      " 8   FUELCONSUMPTION_CITY      1067 non-null   float64\n",
      " 9   FUELCONSUMPTION_HWY       1067 non-null   float64\n",
      " 10  FUELCONSUMPTION_COMB      1067 non-null   float64\n",
      " 11  FUELCONSUMPTION_COMB_MPG  1067 non-null   int64  \n",
      " 12  CO2EMISSIONS              1067 non-null   int64  \n",
      "dtypes: float64(4), int64(4), object(5)\n",
      "memory usage: 108.5+ KB\n"
     ]
    }
   ],
   "source": [
    "dataset.info()"
   ]
  },
  {
   "cell_type": "code",
   "execution_count": 5,
   "metadata": {},
   "outputs": [],
   "source": [
    "df=dataset[['ENGINESIZE','CYLINDERS','FUELCONSUMPTION_COMB']]"
   ]
  },
  {
   "cell_type": "code",
   "execution_count": 6,
   "metadata": {},
   "outputs": [
    {
     "data": {
      "text/plain": [
       "<function matplotlib.pyplot.show(*args, **kw)>"
      ]
     },
     "execution_count": 6,
     "metadata": {},
     "output_type": "execute_result"
    },
    {
     "data": {
      "image/png": "[encoded data removed]",
      "text/plain": [
       "<Figure size 432x288 with 1 Axes>"
      ]
     },
     "metadata": {
      "needs_background": "light"
     },
     "output_type": "display_data"
    }
   ],
   "source": [
    "plt.scatter(dataset.ENGINESIZE,dataset.CO2EMISSIONS)\n",
    "plt.xlabel(\"Engine Size\")\n",
    "plt.ylabel(\"CO2 Emission\")\n",
    "plt.show"
   ]
  },
  {
   "cell_type": "code",
   "execution_count": 7,
   "metadata": {},
   "outputs": [
    {
     "data": {
      "text/plain": [
       "<function matplotlib.pyplot.show(*args, **kw)>"
      ]
     },
     "execution_count": 7,
     "metadata": {},
     "output_type": "execute_result"
    },
    {
     "data": {
      "image/png": "[encoded data removed]",
      "text/plain": [
       "<Figure size 432x288 with 1 Axes>"
      ]
     },
     "metadata": {
      "needs_background": "light"
     },
     "output_type": "display_data"
    }
   ],
   "source": [
    "plt.scatter(dataset.CYLINDERS,dataset.CO2EMISSIONS)\n",
    "plt.xlabel(\"No. of Cylinders\")\n",
    "plt.ylabel(\"CO2 Emission\")\n",
    "plt.show"
   ]
  },
  {
   "cell_type": "code",
   "execution_count": 8,
   "metadata": {},
   "outputs": [
    {
     "data": {
      "text/plain": [
       "<function matplotlib.pyplot.show(*args, **kw)>"
      ]
     },
     "execution_count": 8,
     "metadata": {},
     "output_type": "execute_result"
    },
    {
     "data": {
      "image/png": "[encoded data removed]",
      "text/plain": [
       "<Figure size 432x288 with 1 Axes>"
      ]
     },
     "metadata": {
      "needs_background": "light"
     },
     "output_type": "display_data"
    }
   ],
   "source": [
    "plt.scatter(dataset.FUELCONSUMPTION_COMB,dataset.CO2EMISSIONS)\n",
    "plt.xlabel(\"Fuel Consumption\")\n",
    "plt.ylabel(\"CO2 Emission\")\n",
    "plt.show"
   ]
  },
  {
   "cell_type": "code",
   "execution_count": 9,
   "metadata": {},
   "outputs": [],
   "source": [
    "TRAIN_SIZE = 0.80\n",
    "# Create boolean mask\n",
    "# np.random creates a vector of random values between 0 and 1\n",
    "# Those values are filtered to create a binary mask\n",
    "msk = np.random.rand(len(dataset)) < TRAIN_SIZE\n",
    "\n",
    "train = dataset[msk]  \n",
    "test = dataset[~msk]"
   ]
  },
  {
   "cell_type": "code",
   "execution_count": 10,
   "metadata": {},
   "outputs": [
    {
     "name": "stdout",
     "output_type": "stream",
     "text": [
      "Coefficient: [[38.73096153]]\n",
      "Intercept: [126.61116102]\n"
     ]
    }
   ],
   "source": [
    "from sklearn import linear_model\n",
    "regr = linear_model.LinearRegression()\n",
    "train_x = np.asanyarray(train[['ENGINESIZE']])\n",
    "train_y = np.asanyarray(train[['CO2EMISSIONS']])\n",
    "regr.fit(train_x,train_y)\n",
    "print(\"Coefficient:\", regr.coef_)\n",
    "print(\"Intercept:\", regr.intercept_)"
   ]
  },
  {
   "cell_type": "code",
   "execution_count": 12,
   "metadata": {},
   "outputs": [],
   "source": [
    "test_x = np.asanyarray(test[['ENGINESIZE']])\n",
    "test_y = np.asanyarray(test[['CO2EMISSIONS']])"
   ]
  },
  {
   "cell_type": "code",
   "execution_count": 15,
   "metadata": {},
   "outputs": [
    {
     "data": {
      "text/plain": [
       "array([[184.70760331],\n",
       "       [262.16952637],\n",
       "       [219.56546869],\n",
       "       [308.64668021],\n",
       "       [204.07308408],\n",
       "       [204.07308408],\n",
       "       [242.80404561],\n",
       "       [281.53500714],\n",
       "       [204.07308408],\n",
       "       [204.07308408],\n",
       "       [242.80404561],\n",
       "       [289.28119944],\n",
       "       [242.80404561],\n",
       "       [204.07308408],\n",
       "       [358.9969302 ],\n",
       "       [358.9969302 ],\n",
       "       [204.07308408],\n",
       "       [204.07308408],\n",
       "       [297.02739175],\n",
       "       [242.80404561],\n",
       "       [297.02739175],\n",
       "       [242.80404561],\n",
       "       [297.02739175],\n",
       "       [180.83450716],\n",
       "       [219.56546869],\n",
       "       [204.07308408],\n",
       "       [366.7431225 ],\n",
       "       [366.7431225 ],\n",
       "       [180.83450716],\n",
       "       [331.88525713],\n",
       "       [331.88525713],\n",
       "       [312.51977636],\n",
       "       [219.56546869],\n",
       "       [219.56546869],\n",
       "       [293.1542956 ],\n",
       "       [293.1542956 ],\n",
       "       [331.88525713],\n",
       "       [180.83450716],\n",
       "       [196.32689177],\n",
       "       [180.83450716],\n",
       "       [266.04262252],\n",
       "       [219.56546869],\n",
       "       [266.04262252],\n",
       "       [266.04262252],\n",
       "       [266.04262252],\n",
       "       [266.04262252],\n",
       "       [266.04262252],\n",
       "       [347.37764174],\n",
       "       [266.04262252],\n",
       "       [219.56546869],\n",
       "       [266.04262252],\n",
       "       [180.83450716],\n",
       "       [180.83450716],\n",
       "       [180.83450716],\n",
       "       [335.75835328],\n",
       "       [335.75835328],\n",
       "       [188.58069946],\n",
       "       [366.7431225 ],\n",
       "       [262.16952637],\n",
       "       [269.91571868],\n",
       "       [320.26596867],\n",
       "       [366.7431225 ],\n",
       "       [165.34212255],\n",
       "       [188.58069946],\n",
       "       [262.16952637],\n",
       "       [204.07308408],\n",
       "       [204.07308408],\n",
       "       [223.43856484],\n",
       "       [204.07308408],\n",
       "       [204.07308408],\n",
       "       [262.16952637],\n",
       "       [331.88525713],\n",
       "       [331.88525713],\n",
       "       [331.88525713],\n",
       "       [312.51977636],\n",
       "       [358.9969302 ],\n",
       "       [293.1542956 ],\n",
       "       [331.88525713],\n",
       "       [266.04262252],\n",
       "       [366.7431225 ],\n",
       "       [331.88525713],\n",
       "       [219.56546869],\n",
       "       [262.16952637],\n",
       "       [196.32689177],\n",
       "       [188.58069946],\n",
       "       [204.07308408],\n",
       "       [273.78881483],\n",
       "       [219.56546869],\n",
       "       [204.07308408],\n",
       "       [188.58069946],\n",
       "       [269.91571868],\n",
       "       [269.91571868],\n",
       "       [343.50454559],\n",
       "       [320.26596867],\n",
       "       [242.80404561],\n",
       "       [320.26596867],\n",
       "       [219.56546869],\n",
       "       [219.56546869],\n",
       "       [204.07308408],\n",
       "       [219.56546869],\n",
       "       [374.48931481],\n",
       "       [219.56546869],\n",
       "       [219.56546869],\n",
       "       [204.07308408],\n",
       "       [219.56546869],\n",
       "       [204.07308408],\n",
       "       [204.07308408],\n",
       "       [328.01216097],\n",
       "       [204.07308408],\n",
       "       [242.80404561],\n",
       "       [320.26596867],\n",
       "       [242.80404561],\n",
       "       [242.80404561],\n",
       "       [262.16952637],\n",
       "       [269.91571868],\n",
       "       [204.07308408],\n",
       "       [269.91571868],\n",
       "       [204.07308408],\n",
       "       [204.07308408],\n",
       "       [242.80404561],\n",
       "       [242.80404561],\n",
       "       [184.70760331],\n",
       "       [204.07308408],\n",
       "       [204.07308408],\n",
       "       [223.43856484],\n",
       "       [223.43856484],\n",
       "       [204.07308408],\n",
       "       [204.07308408],\n",
       "       [262.16952637],\n",
       "       [262.16952637],\n",
       "       [262.16952637],\n",
       "       [366.7431225 ],\n",
       "       [366.7431225 ],\n",
       "       [204.07308408],\n",
       "       [339.63144943],\n",
       "       [207.94618023],\n",
       "       [308.64668021],\n",
       "       [339.63144943],\n",
       "       [308.64668021],\n",
       "       [308.64668021],\n",
       "       [262.16952637],\n",
       "       [308.64668021],\n",
       "       [339.63144943],\n",
       "       [366.7431225 ],\n",
       "       [188.58069946],\n",
       "       [188.58069946],\n",
       "       [188.58069946],\n",
       "       [188.58069946],\n",
       "       [188.58069946],\n",
       "       [188.58069946],\n",
       "       [188.58069946],\n",
       "       [188.58069946],\n",
       "       [204.07308408],\n",
       "       [204.07308408],\n",
       "       [242.80404561],\n",
       "       [269.91571868],\n",
       "       [223.43856484],\n",
       "       [223.43856484],\n",
       "       [343.50454559],\n",
       "       [281.53500714],\n",
       "       [258.29643022],\n",
       "       [258.29643022],\n",
       "       [273.78881483],\n",
       "       [273.78881483],\n",
       "       [258.29643022],\n",
       "       [242.80404561],\n",
       "       [258.29643022],\n",
       "       [266.04262252],\n",
       "       [386.10860327],\n",
       "       [204.07308408],\n",
       "       [223.43856484],\n",
       "       [165.34212255],\n",
       "       [451.95123787],\n",
       "       [204.07308408],\n",
       "       [223.43856484],\n",
       "       [223.43856484],\n",
       "       [266.04262252],\n",
       "       [204.07308408],\n",
       "       [204.07308408],\n",
       "       [262.16952637],\n",
       "       [262.16952637],\n",
       "       [196.32689177],\n",
       "       [262.16952637],\n",
       "       [196.32689177],\n",
       "       [223.43856484],\n",
       "       [262.16952637],\n",
       "       [281.53500714],\n",
       "       [347.37764174],\n",
       "       [184.70760331],\n",
       "       [184.70760331],\n",
       "       [223.43856484],\n",
       "       [223.43856484],\n",
       "       [204.07308408],\n",
       "       [204.07308408],\n",
       "       [204.07308408],\n",
       "       [196.32689177],\n",
       "       [223.43856484],\n",
       "       [204.07308408],\n",
       "       [250.55023791],\n",
       "       [242.80404561]])"
      ]
     },
     "execution_count": 15,
     "metadata": {},
     "output_type": "execute_result"
    }
   ],
   "source": [
    "predicted_emissions = regr.predict(test_x)\n",
    "predicted_emissions"
   ]
  },
  {
   "cell_type": "code",
   "execution_count": 17,
   "metadata": {},
   "outputs": [
    {
     "data": {
      "text/plain": [
       "938.4862434384701"
      ]
     },
     "execution_count": 17,
     "metadata": {},
     "output_type": "execute_result"
    }
   ],
   "source": [
    "np.mean((predicted_emissions-test_y)**2)\n"
   ]
  },
  {
   "cell_type": "code",
   "execution_count": 18,
   "metadata": {},
   "outputs": [
    {
     "data": {
      "image/png": "[encoded data removed]",
      "text/plain": [
       "<Figure size 432x288 with 1 Axes>"
      ]
     },
     "metadata": {
      "needs_background": "light"
     },
     "output_type": "display_data"
    }
   ],
   "source": [
    "plt.scatter(test_x,test_y, color='black')\n",
    "plt.plot(test_x,predicted_emissions,color='blue', linewidth=3)\n",
    "plt.show()"
   ]
  },
  {
   "cell_type": "code",
   "execution_count": null,
   "metadata": {},
   "outputs": [],
   "source": []
  }
 ],
 "metadata": {
  "kernelspec": {
   "display_name": "Python 3",
   "language": "python",
   "name": "python3"
  },
  "language_info": {
   "codemirror_mode": {
    "name": "ipython",
    "version": 3
   },
   "file_extension": ".py",
   "mimetype": "text/x-python",
   "name": "python",
   "nbconvert_exporter": "python",
   "pygments_lexer": "ipython3",
   "version": "3.7.7"
  }
 },
 "nbformat": 4,
 "nbformat_minor": 4
}
